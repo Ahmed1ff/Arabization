{
 "cells": [
  {
   "cell_type": "code",
   "execution_count": 1,
   "id": "80eff51b",
   "metadata": {
    "_cell_guid": "b1076dfc-b9ad-4769-8c92-a6c4dae69d19",
    "_uuid": "8f2839f25d086af736a60e9eeb907d3b93b6e0e5",
    "execution": {
     "iopub.execute_input": "2025-07-24T11:28:54.413324Z",
     "iopub.status.busy": "2025-07-24T11:28:54.413010Z",
     "iopub.status.idle": "2025-07-24T11:28:54.689916Z",
     "shell.execute_reply": "2025-07-24T11:28:54.689186Z",
     "shell.execute_reply.started": "2025-07-24T11:28:54.413291Z"
    },
    "papermill": {
     "duration": 1.367723,
     "end_time": "2025-07-24T01:41:21.844851",
     "exception": false,
     "start_time": "2025-07-24T01:41:20.477128",
     "status": "completed"
    },
    "tags": [],
    "trusted": true
   },
   "outputs": [],
   "source": [
    "# This Python 3 environment comes with many helpful analytics libraries installed\n",
    "# It is defined by the kaggle/python Docker image: https://github.com/kaggle/docker-python\n",
    "# For example, here's several helpful packages to load\n",
    "\n",
    "import numpy as np # linear algebra\n",
    "import pandas as pd # data processing, CSV file I/O (e.g. pd.read_csv)\n",
    "\n",
    "# Input data files are available in the read-only \"../input/\" directory\n",
    "# For example, running this (by clicking run or pressing Shift+Enter) will list all files under the input directory\n",
    "\n",
    "import os\n",
    "for dirname, _, filenames in os.walk('/kaggle/input'):\n",
    "    for filename in filenames:\n",
    "        print(os.path.join(dirname, filename))\n",
    "\n",
    "# You can write up to 20GB to the current directory (/kaggle/working/) that gets preserved as output when you create a version using \"Save & Run All\" \n",
    "# You can also write temporary files to /kaggle/temp/, but they won't be saved outside of the current session"
   ]
  },
  {
   "cell_type": "code",
   "execution_count": 2,
   "id": "556f5775",
   "metadata": {
    "execution": {
     "iopub.execute_input": "2025-07-24T11:28:54.691662Z",
     "iopub.status.busy": "2025-07-24T11:28:54.691204Z",
     "iopub.status.idle": "2025-07-24T11:29:04.717653Z",
     "shell.execute_reply": "2025-07-24T11:29:04.716823Z",
     "shell.execute_reply.started": "2025-07-24T11:28:54.691634Z"
    },
    "papermill": {
     "duration": 8.19287,
     "end_time": "2025-07-24T01:41:30.044639",
     "exception": false,
     "start_time": "2025-07-24T01:41:21.851769",
     "status": "completed"
    },
    "tags": [],
    "trusted": true
   },
   "outputs": [
    {
     "name": "stdout",
     "output_type": "stream",
     "text": [
      "Collecting evaluate\n",
      "  Downloading evaluate-0.4.5-py3-none-any.whl.metadata (9.5 kB)\n",
      "Requirement already satisfied: datasets>=2.0.0 in /usr/local/lib/python3.11/dist-packages (from evaluate) (3.6.0)\n",
      "Requirement already satisfied: numpy>=1.17 in /usr/local/lib/python3.11/dist-packages (from evaluate) (1.26.4)\n",
      "Requirement already satisfied: dill in /usr/local/lib/python3.11/dist-packages (from evaluate) (0.3.8)\n",
      "Requirement already satisfied: pandas in /usr/local/lib/python3.11/dist-packages (from evaluate) (2.2.3)\n",
      "Requirement already satisfied: requests>=2.19.0 in /usr/local/lib/python3.11/dist-packages (from evaluate) (2.32.4)\n",
      "Requirement already satisfied: tqdm>=4.62.1 in /usr/local/lib/python3.11/dist-packages (from evaluate) (4.67.1)\n",
      "Requirement already satisfied: xxhash in /usr/local/lib/python3.11/dist-packages (from evaluate) (3.5.0)\n",
      "Requirement already satisfied: multiprocess in /usr/local/lib/python3.11/dist-packages (from evaluate) (0.70.16)\n",
      "Requirement already satisfied: fsspec>=2021.05.0 in /usr/local/lib/python3.11/dist-packages (from fsspec[http]>=2021.05.0->evaluate) (2025.5.1)\n",
      "Requirement already satisfied: huggingface-hub>=0.7.0 in /usr/local/lib/python3.11/dist-packages (from evaluate) (0.33.1)\n",
      "Requirement already satisfied: packaging in /usr/local/lib/python3.11/dist-packages (from evaluate) (25.0)\n",
      "Requirement already satisfied: filelock in /usr/local/lib/python3.11/dist-packages (from datasets>=2.0.0->evaluate) (3.18.0)\n",
      "Requirement already satisfied: pyarrow>=15.0.0 in /usr/local/lib/python3.11/dist-packages (from datasets>=2.0.0->evaluate) (19.0.1)\n",
      "Collecting fsspec>=2021.05.0 (from fsspec[http]>=2021.05.0->evaluate)\n",
      "  Downloading fsspec-2025.3.0-py3-none-any.whl.metadata (11 kB)\n",
      "Requirement already satisfied: pyyaml>=5.1 in /usr/local/lib/python3.11/dist-packages (from datasets>=2.0.0->evaluate) (6.0.2)\n",
      "Requirement already satisfied: aiohttp!=4.0.0a0,!=4.0.0a1 in /usr/local/lib/python3.11/dist-packages (from fsspec[http]>=2021.05.0->evaluate) (3.12.13)\n",
      "Requirement already satisfied: typing-extensions>=3.7.4.3 in /usr/local/lib/python3.11/dist-packages (from huggingface-hub>=0.7.0->evaluate) (4.14.0)\n",
      "Requirement already satisfied: hf-xet<2.0.0,>=1.1.2 in /usr/local/lib/python3.11/dist-packages (from huggingface-hub>=0.7.0->evaluate) (1.1.5)\n",
      "Requirement already satisfied: mkl_fft in /usr/local/lib/python3.11/dist-packages (from numpy>=1.17->evaluate) (1.3.8)\n",
      "Requirement already satisfied: mkl_random in /usr/local/lib/python3.11/dist-packages (from numpy>=1.17->evaluate) (1.2.4)\n",
      "Requirement already satisfied: mkl_umath in /usr/local/lib/python3.11/dist-packages (from numpy>=1.17->evaluate) (0.1.1)\n",
      "Requirement already satisfied: mkl in /usr/local/lib/python3.11/dist-packages (from numpy>=1.17->evaluate) (2025.2.0)\n",
      "Requirement already satisfied: tbb4py in /usr/local/lib/python3.11/dist-packages (from numpy>=1.17->evaluate) (2022.2.0)\n",
      "Requirement already satisfied: mkl-service in /usr/local/lib/python3.11/dist-packages (from numpy>=1.17->evaluate) (2.4.1)\n",
      "Requirement already satisfied: charset_normalizer<4,>=2 in /usr/local/lib/python3.11/dist-packages (from requests>=2.19.0->evaluate) (3.4.2)\n",
      "Requirement already satisfied: idna<4,>=2.5 in /usr/local/lib/python3.11/dist-packages (from requests>=2.19.0->evaluate) (3.10)\n",
      "Requirement already satisfied: urllib3<3,>=1.21.1 in /usr/local/lib/python3.11/dist-packages (from requests>=2.19.0->evaluate) (2.5.0)\n",
      "Requirement already satisfied: certifi>=2017.4.17 in /usr/local/lib/python3.11/dist-packages (from requests>=2.19.0->evaluate) (2025.6.15)\n",
      "Requirement already satisfied: python-dateutil>=2.8.2 in /usr/local/lib/python3.11/dist-packages (from pandas->evaluate) (2.9.0.post0)\n",
      "Requirement already satisfied: pytz>=2020.1 in /usr/local/lib/python3.11/dist-packages (from pandas->evaluate) (2025.2)\n",
      "Requirement already satisfied: tzdata>=2022.7 in /usr/local/lib/python3.11/dist-packages (from pandas->evaluate) (2025.2)\n",
      "Requirement already satisfied: aiohappyeyeballs>=2.5.0 in /usr/local/lib/python3.11/dist-packages (from aiohttp!=4.0.0a0,!=4.0.0a1->fsspec[http]>=2021.05.0->evaluate) (2.6.1)\n",
      "Requirement already satisfied: aiosignal>=1.1.2 in /usr/local/lib/python3.11/dist-packages (from aiohttp!=4.0.0a0,!=4.0.0a1->fsspec[http]>=2021.05.0->evaluate) (1.3.2)\n",
      "Requirement already satisfied: attrs>=17.3.0 in /usr/local/lib/python3.11/dist-packages (from aiohttp!=4.0.0a0,!=4.0.0a1->fsspec[http]>=2021.05.0->evaluate) (25.3.0)\n",
      "Requirement already satisfied: frozenlist>=1.1.1 in /usr/local/lib/python3.11/dist-packages (from aiohttp!=4.0.0a0,!=4.0.0a1->fsspec[http]>=2021.05.0->evaluate) (1.7.0)\n",
      "Requirement already satisfied: multidict<7.0,>=4.5 in /usr/local/lib/python3.11/dist-packages (from aiohttp!=4.0.0a0,!=4.0.0a1->fsspec[http]>=2021.05.0->evaluate) (6.6.3)\n",
      "Requirement already satisfied: propcache>=0.2.0 in /usr/local/lib/python3.11/dist-packages (from aiohttp!=4.0.0a0,!=4.0.0a1->fsspec[http]>=2021.05.0->evaluate) (0.3.2)\n",
      "Requirement already satisfied: yarl<2.0,>=1.17.0 in /usr/local/lib/python3.11/dist-packages (from aiohttp!=4.0.0a0,!=4.0.0a1->fsspec[http]>=2021.05.0->evaluate) (1.20.1)\n",
      "Requirement already satisfied: six>=1.5 in /usr/local/lib/python3.11/dist-packages (from python-dateutil>=2.8.2->pandas->evaluate) (1.17.0)\n",
      "Requirement already satisfied: intel-openmp<2026,>=2024 in /usr/local/lib/python3.11/dist-packages (from mkl->numpy>=1.17->evaluate) (2024.2.0)\n",
      "Requirement already satisfied: tbb==2022.* in /usr/local/lib/python3.11/dist-packages (from mkl->numpy>=1.17->evaluate) (2022.2.0)\n",
      "Requirement already satisfied: tcmlib==1.* in /usr/local/lib/python3.11/dist-packages (from tbb==2022.*->mkl->numpy>=1.17->evaluate) (1.4.0)\n",
      "Requirement already satisfied: intel-cmplr-lib-rt in /usr/local/lib/python3.11/dist-packages (from mkl_umath->numpy>=1.17->evaluate) (2024.2.0)\n",
      "Requirement already satisfied: intel-cmplr-lib-ur==2024.2.0 in /usr/local/lib/python3.11/dist-packages (from intel-openmp<2026,>=2024->mkl->numpy>=1.17->evaluate) (2024.2.0)\n",
      "Downloading evaluate-0.4.5-py3-none-any.whl (84 kB)\n",
      "\u001b[2K   \u001b[90m━━━━━━━━━━━━━━━━━━━━━━━━━━━━━━━━━━━━━━━━\u001b[0m \u001b[32m84.1/84.1 kB\u001b[0m \u001b[31m2.6 MB/s\u001b[0m eta \u001b[36m0:00:00\u001b[0m\n",
      "\u001b[?25hDownloading fsspec-2025.3.0-py3-none-any.whl (193 kB)\n",
      "\u001b[2K   \u001b[90m━━━━━━━━━━━━━━━━━━━━━━━━━━━━━━━━━━━━━━━━\u001b[0m \u001b[32m193.6/193.6 kB\u001b[0m \u001b[31m7.0 MB/s\u001b[0m eta \u001b[36m0:00:00\u001b[0m\n",
      "\u001b[?25hInstalling collected packages: fsspec, evaluate\n",
      "  Attempting uninstall: fsspec\n",
      "    Found existing installation: fsspec 2025.5.1\n",
      "    Uninstalling fsspec-2025.5.1:\n",
      "      Successfully uninstalled fsspec-2025.5.1\n",
      "\u001b[31mERROR: pip's dependency resolver does not currently take into account all the packages that are installed. This behaviour is the source of the following dependency conflicts.\n",
      "bigframes 2.8.0 requires google-cloud-bigquery-storage<3.0.0,>=2.30.0, which is not installed.\n",
      "cesium 0.12.4 requires numpy<3.0,>=2.0, but you have numpy 1.26.4 which is incompatible.\n",
      "torch 2.6.0+cu124 requires nvidia-cublas-cu12==12.4.5.8; platform_system == \"Linux\" and platform_machine == \"x86_64\", but you have nvidia-cublas-cu12 12.5.3.2 which is incompatible.\n",
      "torch 2.6.0+cu124 requires nvidia-cuda-cupti-cu12==12.4.127; platform_system == \"Linux\" and platform_machine == \"x86_64\", but you have nvidia-cuda-cupti-cu12 12.5.82 which is incompatible.\n",
      "torch 2.6.0+cu124 requires nvidia-cuda-nvrtc-cu12==12.4.127; platform_system == \"Linux\" and platform_machine == \"x86_64\", but you have nvidia-cuda-nvrtc-cu12 12.5.82 which is incompatible.\n",
      "torch 2.6.0+cu124 requires nvidia-cuda-runtime-cu12==12.4.127; platform_system == \"Linux\" and platform_machine == \"x86_64\", but you have nvidia-cuda-runtime-cu12 12.5.82 which is incompatible.\n",
      "torch 2.6.0+cu124 requires nvidia-cudnn-cu12==9.1.0.70; platform_system == \"Linux\" and platform_machine == \"x86_64\", but you have nvidia-cudnn-cu12 9.3.0.75 which is incompatible.\n",
      "torch 2.6.0+cu124 requires nvidia-cufft-cu12==11.2.1.3; platform_system == \"Linux\" and platform_machine == \"x86_64\", but you have nvidia-cufft-cu12 11.2.3.61 which is incompatible.\n",
      "torch 2.6.0+cu124 requires nvidia-curand-cu12==10.3.5.147; platform_system == \"Linux\" and platform_machine == \"x86_64\", but you have nvidia-curand-cu12 10.3.6.82 which is incompatible.\n",
      "torch 2.6.0+cu124 requires nvidia-cusolver-cu12==11.6.1.9; platform_system == \"Linux\" and platform_machine == \"x86_64\", but you have nvidia-cusolver-cu12 11.6.3.83 which is incompatible.\n",
      "torch 2.6.0+cu124 requires nvidia-cusparse-cu12==12.3.1.170; platform_system == \"Linux\" and platform_machine == \"x86_64\", but you have nvidia-cusparse-cu12 12.5.1.3 which is incompatible.\n",
      "torch 2.6.0+cu124 requires nvidia-nvjitlink-cu12==12.4.127; platform_system == \"Linux\" and platform_machine == \"x86_64\", but you have nvidia-nvjitlink-cu12 12.5.82 which is incompatible.\n",
      "gcsfs 2025.3.2 requires fsspec==2025.3.2, but you have fsspec 2025.3.0 which is incompatible.\n",
      "bigframes 2.8.0 requires google-cloud-bigquery[bqstorage,pandas]>=3.31.0, but you have google-cloud-bigquery 3.25.0 which is incompatible.\n",
      "bigframes 2.8.0 requires rich<14,>=12.4.4, but you have rich 14.0.0 which is incompatible.\u001b[0m\u001b[31m\n",
      "\u001b[0mSuccessfully installed evaluate-0.4.5 fsspec-2025.3.0\n",
      "Collecting patool\n",
      "  Downloading patool-4.0.1-py2.py3-none-any.whl.metadata (4.5 kB)\n",
      "Downloading patool-4.0.1-py2.py3-none-any.whl (86 kB)\n",
      "\u001b[2K   \u001b[90m━━━━━━━━━━━━━━━━━━━━━━━━━━━━━━━━━━━━━━━━\u001b[0m \u001b[32m86.5/86.5 kB\u001b[0m \u001b[31m2.6 MB/s\u001b[0m eta \u001b[36m0:00:00\u001b[0m\n",
      "\u001b[?25hInstalling collected packages: patool\n",
      "Successfully installed patool-4.0.1\n"
     ]
    }
   ],
   "source": [
    "!pip install evaluate\n",
    "!pip install patool\n"
   ]
  },
  {
   "cell_type": "code",
   "execution_count": 31,
   "id": "fb8523f9",
   "metadata": {
    "execution": {
     "iopub.execute_input": "2025-07-24T11:47:09.252885Z",
     "iopub.status.busy": "2025-07-24T11:47:09.252257Z",
     "iopub.status.idle": "2025-07-24T11:47:09.310217Z",
     "shell.execute_reply": "2025-07-24T11:47:09.309477Z",
     "shell.execute_reply.started": "2025-07-24T11:47:09.252859Z"
    },
    "papermill": {
     "duration": 28.40091,
     "end_time": "2025-07-24T01:41:58.452712",
     "exception": false,
     "start_time": "2025-07-24T01:41:30.051802",
     "status": "completed"
    },
    "tags": [],
    "trusted": true
   },
   "outputs": [
    {
     "name": "stderr",
     "output_type": "stream",
     "text": [
      "[nltk_data] Downloading package omw-1.4 to /usr/share/nltk_data...\n",
      "[nltk_data]   Package omw-1.4 is already up-to-date!\n",
      "[nltk_data] Downloading package wordnet to /usr/share/nltk_data...\n",
      "[nltk_data]   Package wordnet is already up-to-date!\n",
      "[nltk_data] Downloading package stopwords to /usr/share/nltk_data...\n",
      "[nltk_data]   Package stopwords is already up-to-date!\n"
     ]
    }
   ],
   "source": [
    "import os\n",
    "import re\n",
    "import random\n",
    "import pandas as pd\n",
    "import numpy as np\n",
    "import matplotlib.pyplot as plt\n",
    "import seaborn as sns\n",
    "import nltk\n",
    "import gdown\n",
    "import zipfile\n",
    "import patoolib\n",
    "import emoji\n",
    "\n",
    "from functools import lru_cache\n",
    "from nltk.corpus import stopwords\n",
    "nltk.download('omw-1.4')\n",
    "nltk.download('wordnet')\n",
    "nltk.download('stopwords')\n",
    "import torch\n",
    "from torch.utils.data import Dataset, DataLoader\n",
    "from transformers import AutoTokenizer, AutoModelForSequenceClassification, get_scheduler\n",
    "from tqdm import tqdm # progress\n",
    "from torch.optim import AdamW\n",
    "\n",
    "from torch.cuda.amp import autocast, GradScaler # speed train\n",
    "from sklearn.model_selection import train_test_split\n",
    "from sklearn.metrics import confusion_matrix, accuracy_score, precision_recall_fscore_support\n",
    "\n",
    "from sklearn.metrics import classification_report\n",
    "import evaluate\n",
    "from sklearn.feature_extraction.text import TfidfVectorizer\n",
    "from sklearn.linear_model import LogisticRegression\n",
    "import xgboost as xgb\n",
    "from sklearn.preprocessing import LabelEncoder\n",
    "from sklearn.utils.class_weight import compute_class_weight"
   ]
  },
  {
   "cell_type": "markdown",
   "id": "ae5db54e",
   "metadata": {
    "papermill": {
     "duration": 0.006994,
     "end_time": "2025-07-24T01:41:58.467624",
     "exception": false,
     "start_time": "2025-07-24T01:41:58.460630",
     "status": "completed"
    },
    "tags": []
   },
   "source": [
    "## Read Data from drive(public)"
   ]
  },
  {
   "cell_type": "code",
   "execution_count": 4,
   "id": "961bd5dc",
   "metadata": {
    "execution": {
     "iopub.execute_input": "2025-07-24T11:29:46.018443Z",
     "iopub.status.busy": "2025-07-24T11:29:46.017852Z",
     "iopub.status.idle": "2025-07-24T11:30:02.628513Z",
     "shell.execute_reply": "2025-07-24T11:30:02.627590Z",
     "shell.execute_reply.started": "2025-07-24T11:29:46.018412Z"
    },
    "papermill": {
     "duration": 16.254072,
     "end_time": "2025-07-24T01:42:14.728563",
     "exception": false,
     "start_time": "2025-07-24T01:41:58.474491",
     "status": "completed"
    },
    "tags": [],
    "trusted": true
   },
   "outputs": [
    {
     "name": "stderr",
     "output_type": "stream",
     "text": [
      "Downloading...\n",
      "From: https://drive.google.com/uc?id=1bmuRIKGHXpGhH-vyouMySp65WOHi_bPU\n",
      "To: /kaggle/working/arabic_tweet.tsv\n",
      "100%|██████████| 7.37M/7.37M [00:00<00:00, 99.9MB/s]\n",
      "Downloading...\n",
      "From: https://drive.google.com/uc?id=1VfcqdKfLpi7qtVc5iJNeMnes9H4fqZOe\n",
      "To: /kaggle/working/Arabic_Sentiment_Analysis_SS2030.csv\n",
      "100%|██████████| 1.15M/1.15M [00:00<00:00, 111MB/s]\n",
      "Downloading...\n",
      "From (original): https://drive.google.com/uc?id=1XkMMQf8PHbv6u7zQ-kdvMLK_oeLj_Yvu\n",
      "From (redirected): https://drive.google.com/uc?id=1XkMMQf8PHbv6u7zQ-kdvMLK_oeLj_Yvu&confirm=t&uuid=5e64fa33-7f85-4a80-acf6-c2caa354a54c\n",
      "To: /kaggle/working/arabic_sentiment_reviews.csv\n",
      "100%|██████████| 212M/212M [00:01<00:00, 154MB/s]  \n",
      "Downloading...\n",
      "From: https://drive.google.com/uc?id=1ycuv5RJwbyBRMpHzUvbl73ScQZ2oveWy\n",
      "To: /kaggle/working/Sentiment_Anaysis.csv\n",
      "100%|██████████| 6.85M/6.85M [00:00<00:00, 157MB/s]\n",
      "Downloading...\n",
      "From: https://drive.google.com/uc?id=158QTIK5LGnNbWkq9eCiP3w7H27pzSrxh\n",
      "To: /kaggle/working/Tweets.txt\n",
      "100%|██████████| 1.59M/1.59M [00:00<00:00, 149MB/s]\n"
     ]
    },
    {
     "name": "stdout",
     "output_type": "stream",
     "text": [
      "Class Distribution:\n",
      " sentiment\n",
      "negative    210368\n",
      "positive    205456\n",
      "neutral      37663\n",
      "Name: count, dtype: int64\n"
     ]
    }
   ],
   "source": [
    "def download_from_drive(file_id, output_path):\n",
    "    url = f\"https://drive.google.com/uc?id={file_id}\"\n",
    "    gdown.download(url, output_path, quiet=False)\n",
    "\n",
    "download_from_drive(\"1bmuRIKGHXpGhH-vyouMySp65WOHi_bPU\", \"arabic_tweet.tsv\")\n",
    "download_from_drive(\"1VfcqdKfLpi7qtVc5iJNeMnes9H4fqZOe\", \"Arabic_Sentiment_Analysis_SS2030.csv\")\n",
    "download_from_drive(\"1XkMMQf8PHbv6u7zQ-kdvMLK_oeLj_Yvu\", \"arabic_sentiment_reviews.csv\")\n",
    "download_from_drive(\"1ycuv5RJwbyBRMpHzUvbl73ScQZ2oveWy\", \"Sentiment_Anaysis.csv\")\n",
    "download_from_drive(\"158QTIK5LGnNbWkq9eCiP3w7H27pzSrxh\", \"Tweets.txt\")\n",
    "\n",
    "# قراءة ومعالجة البيانات\n",
    "df1 = pd.read_csv(\"arabic_tweet.tsv\", sep='\\t', names=['sentiment','text'], header=0)\n",
    "df1['sentiment'] = df1['sentiment'].map({'pos':'positive','neg':'negative'})\n",
    "\n",
    "df2 = pd.read_csv(\"Arabic_Sentiment_Analysis_SS2030.csv\")\n",
    "df2 = df2.rename(columns={'Sentiment':'sentiment','text':'text'})\n",
    "df2['sentiment'] = df2['sentiment'].map({1:'positive',0:'negative'})\n",
    "\n",
    "df3 = pd.read_csv(\"arabic_sentiment_reviews.csv\", names=['sentiment','text'], header=0)\n",
    "df3['sentiment'] = df3['sentiment'].map({1:'positive',0:'negative'})\n",
    "\n",
    "df4 = pd.read_csv(\"Sentiment_Anaysis.csv\")\n",
    "df4 = df4.rename(columns={'Twits':'text'})\n",
    "df4['sentiment'] = df4['label'].map({'pos':'positive','neg':'negative','neu':'neutral'})\n",
    "\n",
    "df5 = pd.read_csv(\"Tweets.txt\", sep='\\t', names=['text','sentiment'], header=None, quoting=3)\n",
    "df5['sentiment'] = df5['sentiment'].map({'POS':'positive','NEG':'negative','NEUTRAL':'neutral','OBJ':'neutral'})\n",
    "\n",
    "merged_df = pd.concat([\n",
    "    df1[['sentiment','text']],\n",
    "    df2[['sentiment','text']],\n",
    "    df3[['sentiment','text']],\n",
    "    df4[['sentiment','text']],\n",
    "    df5[['sentiment','text']],\n",
    "], ignore_index=True)\n",
    "\n",
    "distribution = merged_df['sentiment'].value_counts()\n",
    "print(\"Class Distribution:\\n\", distribution)\n",
    "\n"
   ]
  },
  {
   "cell_type": "markdown",
   "id": "3bc29bcd",
   "metadata": {
    "papermill": {
     "duration": 0.007645,
     "end_time": "2025-07-24T01:42:14.744426",
     "exception": false,
     "start_time": "2025-07-24T01:42:14.736781",
     "status": "completed"
    },
    "tags": []
   },
   "source": [
    "## Another data"
   ]
  },
  {
   "cell_type": "code",
   "execution_count": 5,
   "id": "6f48a92f",
   "metadata": {
    "execution": {
     "iopub.execute_input": "2025-07-24T11:30:02.629836Z",
     "iopub.status.busy": "2025-07-24T11:30:02.629564Z",
     "iopub.status.idle": "2025-07-24T11:30:04.114294Z",
     "shell.execute_reply": "2025-07-24T11:30:04.113368Z",
     "shell.execute_reply.started": "2025-07-24T11:30:02.629817Z"
    },
    "papermill": {
     "duration": 1.768571,
     "end_time": "2025-07-24T01:42:16.520581",
     "exception": false,
     "start_time": "2025-07-24T01:42:14.752010",
     "status": "completed"
    },
    "tags": [],
    "trusted": true
   },
   "outputs": [
    {
     "name": "stderr",
     "output_type": "stream",
     "text": [
      "Downloading...\n",
      "From: https://drive.google.com/uc?id=1IlO78A_Fuj79NAhH3cD3FJbAIr24J82I\n",
      "To: /kaggle/working/extracted_neutral_from_company_reviews.csv\n",
      "100%|██████████| 233k/233k [00:00<00:00, 82.1MB/s]"
     ]
    },
    {
     "name": "stdout",
     "output_type": "stream",
     "text": [
      "Index(['sentiment', 'text'], dtype='object')\n",
      "Class distribution after adding df6:\n",
      " sentiment\n",
      "negative    210368\n",
      "positive    205456\n",
      "neutral      37663\n",
      "Name: count, dtype: int64\n"
     ]
    },
    {
     "name": "stderr",
     "output_type": "stream",
     "text": [
      "\n"
     ]
    }
   ],
   "source": [
    "\n",
    "neutral_file_id = \"1IlO78A_Fuj79NAhH3cD3FJbAIr24J82I\"\n",
    "gdown.download(f\"https://drive.google.com/uc?id={neutral_file_id}\", \"extracted_neutral_from_company_reviews.csv\", quiet=False)\n",
    "\n",
    "df6 = pd.read_csv(\"extracted_neutral_from_company_reviews.csv\")\n",
    "\n",
    "print(df6.columns)  \n",
    "\n",
    "df_final = pd.concat([merged_df, df6[['sentiment', 'text']]], ignore_index=True)\n",
    "\n",
    "print(\"Class distribution after adding df6:\\n\", merged_df[\"sentiment\"].value_counts())\n"
   ]
  },
  {
   "cell_type": "code",
   "execution_count": 6,
   "id": "306108da",
   "metadata": {
    "execution": {
     "iopub.execute_input": "2025-07-24T11:30:04.116243Z",
     "iopub.status.busy": "2025-07-24T11:30:04.115343Z",
     "iopub.status.idle": "2025-07-24T11:30:04.467441Z",
     "shell.execute_reply": "2025-07-24T11:30:04.466660Z",
     "shell.execute_reply.started": "2025-07-24T11:30:04.116219Z"
    },
    "papermill": {
     "duration": 0.335127,
     "end_time": "2025-07-24T01:42:16.864943",
     "exception": false,
     "start_time": "2025-07-24T01:42:16.529816",
     "status": "completed"
    },
    "tags": [],
    "trusted": true
   },
   "outputs": [
    {
     "data": {
      "text/plain": [
       "sentiment\n",
       "negative    210368\n",
       "positive    205456\n",
       "neutral      39588\n",
       "Name: count, dtype: int64"
      ]
     },
     "execution_count": 6,
     "metadata": {},
     "output_type": "execute_result"
    }
   ],
   "source": [
    "malformed_rows = df_final[df_final['sentiment'].str.contains(r'^neutral\\t', na=False)].copy()\n",
    "\n",
    "corrected = malformed_rows['sentiment'].str.extract(r'^(neutral)\\t(.+)$')\n",
    "corrected.columns = ['sentiment', 'text']\n",
    "\n",
    "df_final_cleaned = df_final[~df_final.index.isin(malformed_rows.index)].copy()\n",
    "\n",
    "df_final_fixed = pd.concat([df_final_cleaned, corrected], ignore_index=True)\n",
    "\n",
    "class_distribution = df_final_fixed['sentiment'].value_counts()\n",
    "class_distribution"
   ]
  },
  {
   "cell_type": "code",
   "execution_count": 7,
   "id": "45fda656",
   "metadata": {
    "execution": {
     "iopub.execute_input": "2025-07-24T11:30:04.468491Z",
     "iopub.status.busy": "2025-07-24T11:30:04.468213Z",
     "iopub.status.idle": "2025-07-24T11:30:04.549066Z",
     "shell.execute_reply": "2025-07-24T11:30:04.548341Z",
     "shell.execute_reply.started": "2025-07-24T11:30:04.468465Z"
    },
    "papermill": {
     "duration": 0.084378,
     "end_time": "2025-07-24T01:42:16.957925",
     "exception": false,
     "start_time": "2025-07-24T01:42:16.873547",
     "status": "completed"
    },
    "tags": [],
    "trusted": true
   },
   "outputs": [
    {
     "data": {
      "text/plain": [
       "sentiment\n",
       "negative    210368\n",
       "positive    205456\n",
       "neutral      39588\n",
       "Name: count, dtype: int64"
      ]
     },
     "execution_count": 7,
     "metadata": {},
     "output_type": "execute_result"
    }
   ],
   "source": [
    "df_final_fixed = df_final_fixed[df_final_fixed['sentiment'] != 'sentiment\\ttext']\n",
    "\n",
    "cleaned_distribution = df_final_fixed['sentiment'].value_counts()\n",
    "cleaned_distribution\n"
   ]
  },
  {
   "cell_type": "code",
   "execution_count": 8,
   "id": "c16d75e5",
   "metadata": {
    "execution": {
     "iopub.execute_input": "2025-07-24T11:30:04.550657Z",
     "iopub.status.busy": "2025-07-24T11:30:04.550264Z",
     "iopub.status.idle": "2025-07-24T11:30:04.580837Z",
     "shell.execute_reply": "2025-07-24T11:30:04.580097Z",
     "shell.execute_reply.started": "2025-07-24T11:30:04.550624Z"
    },
    "papermill": {
     "duration": 0.036745,
     "end_time": "2025-07-24T01:42:17.003852",
     "exception": false,
     "start_time": "2025-07-24T01:42:16.967107",
     "status": "completed"
    },
    "tags": [],
    "trusted": true
   },
   "outputs": [
    {
     "data": {
      "text/plain": [
       "sentiment\n",
       "negative    210368\n",
       "positive    205456\n",
       "neutral      39588\n",
       "Name: count, dtype: int64"
      ]
     },
     "execution_count": 8,
     "metadata": {},
     "output_type": "execute_result"
    }
   ],
   "source": [
    "df_final_fixed[\"sentiment\"].value_counts()"
   ]
  },
  {
   "cell_type": "markdown",
   "id": "0f325984",
   "metadata": {
    "papermill": {
     "duration": 0.008464,
     "end_time": "2025-07-24T01:42:17.021089",
     "exception": false,
     "start_time": "2025-07-24T01:42:17.012625",
     "status": "completed"
    },
    "tags": []
   },
   "source": [
    "## Another data"
   ]
  },
  {
   "cell_type": "code",
   "execution_count": 9,
   "id": "ee4c611d",
   "metadata": {
    "execution": {
     "iopub.execute_input": "2025-07-24T11:30:04.582122Z",
     "iopub.status.busy": "2025-07-24T11:30:04.581772Z",
     "iopub.status.idle": "2025-07-24T11:30:06.815044Z",
     "shell.execute_reply": "2025-07-24T11:30:06.814478Z",
     "shell.execute_reply.started": "2025-07-24T11:30:04.582103Z"
    },
    "papermill": {
     "duration": 2.392572,
     "end_time": "2025-07-24T01:42:19.422158",
     "exception": false,
     "start_time": "2025-07-24T01:42:17.029586",
     "status": "completed"
    },
    "tags": [],
    "trusted": true
   },
   "outputs": [
    {
     "name": "stderr",
     "output_type": "stream",
     "text": [
      "Downloading...\n",
      "From (original): https://drive.google.com/uc?id=1OtnlZuEhfShKa4DKMbjhMhGpovnlxEqO\n",
      "From (redirected): https://drive.google.com/uc?id=1OtnlZuEhfShKa4DKMbjhMhGpovnlxEqO&confirm=t&uuid=93a1a402-578e-4893-9331-7f9681bc3d1d\n",
      "To: /kaggle/working/SANAD.rar\n",
      "100%|██████████| 64.3M/64.3M [00:00<00:00, 117MB/s]\n"
     ]
    },
    {
     "data": {
      "text/plain": [
       "'SANAD.rar'"
      ]
     },
     "execution_count": 9,
     "metadata": {},
     "output_type": "execute_result"
    }
   ],
   "source": [
    "file_id = \"1OtnlZuEhfShKa4DKMbjhMhGpovnlxEqO\"\n",
    "gdown.download(f\"https://drive.google.com/uc?id={file_id}\", \"SANAD.rar\", quiet=False)"
   ]
  },
  {
   "cell_type": "markdown",
   "id": "927ce0f4",
   "metadata": {
    "papermill": {
     "duration": 0.008662,
     "end_time": "2025-07-24T01:42:19.440094",
     "exception": false,
     "start_time": "2025-07-24T01:42:19.431432",
     "status": "completed"
    },
    "tags": []
   },
   "source": [
    "## Need to extract"
   ]
  },
  {
   "cell_type": "code",
   "execution_count": 10,
   "id": "53a2cfce",
   "metadata": {
    "execution": {
     "iopub.execute_input": "2025-07-24T11:30:06.817650Z",
     "iopub.status.busy": "2025-07-24T11:30:06.817345Z",
     "iopub.status.idle": "2025-07-24T11:30:12.019073Z",
     "shell.execute_reply": "2025-07-24T11:30:12.018124Z",
     "shell.execute_reply.started": "2025-07-24T11:30:06.817633Z"
    },
    "papermill": {
     "duration": 5.058176,
     "end_time": "2025-07-24T01:42:24.506934",
     "exception": false,
     "start_time": "2025-07-24T01:42:19.448758",
     "status": "completed"
    },
    "tags": [],
    "trusted": true
   },
   "outputs": [
    {
     "name": "stderr",
     "output_type": "stream",
     "text": [
      "INFO patool: Extracting SANAD.rar ...\n",
      "INFO patool: ... creating output directory `SANAD'.\n",
      "INFO patool: running /usr/bin/unrar x -kb -or -- /kaggle/working/SANAD.rar\n",
      "INFO patool: ... SANAD.rar extracted to `SANAD'.\n"
     ]
    },
    {
     "data": {
      "text/plain": [
       "'SANAD'"
      ]
     },
     "execution_count": 10,
     "metadata": {},
     "output_type": "execute_result"
    }
   ],
   "source": [
    "patoolib.extract_archive(\"SANAD.rar\", outdir=\"SANAD\")"
   ]
  },
  {
   "cell_type": "code",
   "execution_count": 11,
   "id": "e51ed444",
   "metadata": {
    "execution": {
     "iopub.execute_input": "2025-07-24T11:30:12.020319Z",
     "iopub.status.busy": "2025-07-24T11:30:12.020025Z",
     "iopub.status.idle": "2025-07-24T11:30:16.833562Z",
     "shell.execute_reply": "2025-07-24T11:30:16.832962Z",
     "shell.execute_reply.started": "2025-07-24T11:30:12.020293Z"
    },
    "papermill": {
     "duration": 4.698869,
     "end_time": "2025-07-24T01:42:29.215120",
     "exception": false,
     "start_time": "2025-07-24T01:42:24.516251",
     "status": "completed"
    },
    "tags": [],
    "trusted": true
   },
   "outputs": [],
   "source": [
    "categories = ['Culture', 'Finance', 'Medical', 'Politics', 'Sports', 'Tech', 'Religion']\n",
    "base_dir = \"SANAD/SANAD\"\n",
    "\n",
    "def split_arabic_sentences(text):\n",
    "    sentences = re.split(r'(?<=[.!؟])\\s+', text.strip())\n",
    "    return [s.strip() for s in sentences if len(s.strip()) > 10]\n",
    "\n",
    "all_sentences = []\n",
    "\n",
    "for category in categories:\n",
    "    folder_path = os.path.join(base_dir, category)\n",
    "    if os.path.exists(folder_path):\n",
    "        for filename in os.listdir(folder_path):\n",
    "            file_path = os.path.join(folder_path, filename)\n",
    "            if filename.endswith(\".txt\"):\n",
    "                with open(file_path, 'r', encoding='utf-8') as file:\n",
    "                    content = file.read()\n",
    "                    sentences = split_arabic_sentences(content)\n",
    "                    for sentence in sentences:\n",
    "                        all_sentences.append({\"text\": sentence, \"sentiment\": \"neutral\"})\n",
    "\n",
    "df_neutral = pd.DataFrame(all_sentences)\n",
    "\n",
    "\n",
    "df_final = pd.concat([df_final_fixed, df_neutral], ignore_index=True)"
   ]
  },
  {
   "cell_type": "code",
   "execution_count": 12,
   "id": "d9f09262",
   "metadata": {
    "execution": {
     "iopub.execute_input": "2025-07-24T11:30:16.834532Z",
     "iopub.status.busy": "2025-07-24T11:30:16.834281Z",
     "iopub.status.idle": "2025-07-24T11:30:16.876259Z",
     "shell.execute_reply": "2025-07-24T11:30:16.875477Z",
     "shell.execute_reply.started": "2025-07-24T11:30:16.834513Z"
    },
    "papermill": {
     "duration": 0.107124,
     "end_time": "2025-07-24T01:42:29.332873",
     "exception": false,
     "start_time": "2025-07-24T01:42:29.225749",
     "status": "completed"
    },
    "tags": [],
    "trusted": true
   },
   "outputs": [
    {
     "data": {
      "text/plain": [
       "sentiment\n",
       "neutral     291060\n",
       "negative    210368\n",
       "positive    205456\n",
       "Name: count, dtype: int64"
      ]
     },
     "execution_count": 12,
     "metadata": {},
     "output_type": "execute_result"
    }
   ],
   "source": [
    "df_final[\"sentiment\"].value_counts()"
   ]
  },
  {
   "cell_type": "markdown",
   "id": "c07f8b63",
   "metadata": {
    "papermill": {
     "duration": 0.00988,
     "end_time": "2025-07-24T01:42:29.353380",
     "exception": false,
     "start_time": "2025-07-24T01:42:29.343500",
     "status": "completed"
    },
    "tags": []
   },
   "source": [
    "## Balance data "
   ]
  },
  {
   "cell_type": "code",
   "execution_count": 13,
   "id": "b2a5e6bd",
   "metadata": {
    "execution": {
     "iopub.execute_input": "2025-07-24T11:30:16.877537Z",
     "iopub.status.busy": "2025-07-24T11:30:16.877222Z",
     "iopub.status.idle": "2025-07-24T11:30:17.391351Z",
     "shell.execute_reply": "2025-07-24T11:30:17.390597Z",
     "shell.execute_reply.started": "2025-07-24T11:30:16.877514Z"
    },
    "papermill": {
     "duration": 0.483425,
     "end_time": "2025-07-24T01:42:29.846645",
     "exception": false,
     "start_time": "2025-07-24T01:42:29.363220",
     "status": "completed"
    },
    "tags": [],
    "trusted": true
   },
   "outputs": [
    {
     "name": "stdout",
     "output_type": "stream",
     "text": [
      "sentiment\n",
      "positive    205456\n",
      "negative    205456\n",
      "neutral     205456\n",
      "Name: count, dtype: int64\n"
     ]
    }
   ],
   "source": [
    "min_count = min(\n",
    "    df_final[\"sentiment\"].value_counts()[\"positive\"],\n",
    "    df_final[\"sentiment\"].value_counts()[\"negative\"],\n",
    "    df_final[\"sentiment\"].value_counts()[\"neutral\"]\n",
    ")\n",
    "\n",
    "df_balanced = pd.concat([\n",
    "    df_final[df_final[\"sentiment\"] == \"positive\"].sample(n=min_count, random_state=42),\n",
    "    df_final[df_final[\"sentiment\"] == \"negative\"].sample(n=min_count, random_state=42),\n",
    "    df_final[df_final[\"sentiment\"] == \"neutral\"].sample(n=min_count, random_state=42)\n",
    "], ignore_index=True)\n",
    "\n",
    "\n",
    "print(df_balanced[\"sentiment\"].value_counts())\n"
   ]
  },
  {
   "cell_type": "markdown",
   "id": "2f69aa88",
   "metadata": {
    "papermill": {
     "duration": 0.009145,
     "end_time": "2025-07-24T01:42:29.866560",
     "exception": false,
     "start_time": "2025-07-24T01:42:29.857415",
     "status": "completed"
    },
    "tags": []
   },
   "source": [
    "## Cleaning Data (preprocessing)"
   ]
  },
  {
   "cell_type": "code",
   "execution_count": 14,
   "id": "cef2926c",
   "metadata": {
    "execution": {
     "iopub.execute_input": "2025-07-24T11:30:17.392477Z",
     "iopub.status.busy": "2025-07-24T11:30:17.392181Z",
     "iopub.status.idle": "2025-07-24T11:33:41.374290Z",
     "shell.execute_reply": "2025-07-24T11:33:41.373289Z",
     "shell.execute_reply.started": "2025-07-24T11:30:17.392456Z"
    },
    "papermill": {
     "duration": 199.337149,
     "end_time": "2025-07-24T01:45:49.212864",
     "exception": false,
     "start_time": "2025-07-24T01:42:29.875715",
     "status": "completed"
    },
    "tags": [],
    "trusted": true
   },
   "outputs": [
    {
     "name": "stdout",
     "output_type": "stream",
     "text": [
      "sentiment\n",
      "negative    192852\n",
      "neutral     192244\n",
      "positive    189551\n",
      "Name: count, dtype: int64\n"
     ]
    }
   ],
   "source": [
    "def clean_arabic_text(text):\n",
    "    text = str(text)\n",
    "    text = emoji.replace_emoji(text, replace='')                            \n",
    "    text = re.sub(r\"http\\S+|www.\\S+\", \"\", text)                           \n",
    "    text = re.sub(r\"#\\S+|@\\S+\", \"\", text)                                 \n",
    "    text = re.sub(r\"[a-zA-Z0-9]\", \"\", text)                               \n",
    "    text = re.sub(r\"[^\\u0600-\\u06FF\\s]\", \"\", text)                        \n",
    "    text = re.sub(r\"[\\u064B-\\u065F]\", '', text)                           \n",
    "    text = re.sub(r\"(.)\\1{2,}\", r\"\\1\", text)                              \n",
    "    text = re.sub(r\"\\s+\", \" \", text).strip()                               \n",
    "    text = re.sub(r\"[إأآا]\", \"ا\", text)                                     \n",
    "    text = re.sub(r\"ى\", \"ي\", text)                                         \n",
    "    text = re.sub(r\"ة\", \"ه\", text)                                       \n",
    "\n",
    "    if len(text.split()) < 3:                                             \n",
    "        return \"\"\n",
    "\n",
    "    return text\n",
    "\n",
    "df_balanced['text'] = df_balanced['text'].astype(str).apply(clean_arabic_text)\n",
    "\n",
    "df_balanced = df_balanced[df_balanced['text'].str.strip() != \"\"]\n",
    "\n",
    "df_balanced = df_balanced.drop_duplicates(subset=['text'])\n",
    "\n",
    "print(df_balanced[\"sentiment\"].value_counts())\n"
   ]
  },
  {
   "cell_type": "markdown",
   "id": "3620384b",
   "metadata": {
    "papermill": {
     "duration": 0.009119,
     "end_time": "2025-07-24T01:45:49.231464",
     "exception": false,
     "start_time": "2025-07-24T01:45:49.222345",
     "status": "completed"
    },
    "tags": []
   },
   "source": [
    "## Check Duplicate rows"
   ]
  },
  {
   "cell_type": "code",
   "execution_count": 15,
   "id": "269ebd25",
   "metadata": {
    "execution": {
     "iopub.execute_input": "2025-07-24T11:33:41.375634Z",
     "iopub.status.busy": "2025-07-24T11:33:41.375303Z",
     "iopub.status.idle": "2025-07-24T11:33:43.218045Z",
     "shell.execute_reply": "2025-07-24T11:33:43.217227Z",
     "shell.execute_reply.started": "2025-07-24T11:33:41.375605Z"
    },
    "papermill": {
     "duration": 1.76042,
     "end_time": "2025-07-24T01:45:51.001120",
     "exception": false,
     "start_time": "2025-07-24T01:45:49.240700",
     "status": "completed"
    },
    "tags": [],
    "trusted": true
   },
   "outputs": [
    {
     "data": {
      "text/plain": [
       "0"
      ]
     },
     "execution_count": 15,
     "metadata": {},
     "output_type": "execute_result"
    }
   ],
   "source": [
    "df_balanced.duplicated().sum()"
   ]
  },
  {
   "cell_type": "markdown",
   "id": "31156154",
   "metadata": {
    "papermill": {
     "duration": 0.008688,
     "end_time": "2025-07-24T01:45:51.019031",
     "exception": false,
     "start_time": "2025-07-24T01:45:51.010343",
     "status": "completed"
    },
    "tags": []
   },
   "source": [
    "## Remove dupicate"
   ]
  },
  {
   "cell_type": "code",
   "execution_count": 16,
   "id": "04489911",
   "metadata": {
    "execution": {
     "iopub.execute_input": "2025-07-24T11:33:43.219406Z",
     "iopub.status.busy": "2025-07-24T11:33:43.219098Z",
     "iopub.status.idle": "2025-07-24T11:33:44.215887Z",
     "shell.execute_reply": "2025-07-24T11:33:44.215241Z",
     "shell.execute_reply.started": "2025-07-24T11:33:43.219377Z"
    },
    "papermill": {
     "duration": 0.952566,
     "end_time": "2025-07-24T01:45:51.980251",
     "exception": false,
     "start_time": "2025-07-24T01:45:51.027685",
     "status": "completed"
    },
    "tags": [],
    "trusted": true
   },
   "outputs": [],
   "source": [
    "df_balanced = df_balanced.drop_duplicates()\n"
   ]
  },
  {
   "cell_type": "code",
   "execution_count": 17,
   "id": "398ab290",
   "metadata": {
    "execution": {
     "iopub.execute_input": "2025-07-24T11:33:44.216907Z",
     "iopub.status.busy": "2025-07-24T11:33:44.216668Z",
     "iopub.status.idle": "2025-07-24T11:33:45.159327Z",
     "shell.execute_reply": "2025-07-24T11:33:45.158695Z",
     "shell.execute_reply.started": "2025-07-24T11:33:44.216889Z"
    },
    "papermill": {
     "duration": 0.900099,
     "end_time": "2025-07-24T01:45:52.889983",
     "exception": false,
     "start_time": "2025-07-24T01:45:51.989884",
     "status": "completed"
    },
    "tags": [],
    "trusted": true
   },
   "outputs": [
    {
     "data": {
      "text/plain": [
       "0"
      ]
     },
     "execution_count": 17,
     "metadata": {},
     "output_type": "execute_result"
    }
   ],
   "source": [
    "df_balanced.duplicated().sum()"
   ]
  },
  {
   "cell_type": "code",
   "execution_count": 18,
   "id": "cbdc840e",
   "metadata": {
    "execution": {
     "iopub.execute_input": "2025-07-24T11:33:45.160394Z",
     "iopub.status.busy": "2025-07-24T11:33:45.160126Z",
     "iopub.status.idle": "2025-07-24T11:33:45.669076Z",
     "shell.execute_reply": "2025-07-24T11:33:45.668465Z",
     "shell.execute_reply.started": "2025-07-24T11:33:45.160363Z"
    },
    "papermill": {
     "duration": 0.423981,
     "end_time": "2025-07-24T01:45:53.323639",
     "exception": false,
     "start_time": "2025-07-24T01:45:52.899658",
     "status": "completed"
    },
    "tags": [],
    "trusted": true
   },
   "outputs": [],
   "source": [
    "min_count = df_balanced[\"sentiment\"].value_counts().min()\n",
    "df_balanced = pd.concat([\n",
    "    df_balanced[df_balanced[\"sentiment\"] == \"positive\"].sample(n=min_count, random_state=42),\n",
    "    df_balanced[df_balanced[\"sentiment\"] == \"negative\"].sample(n=min_count, random_state=42),\n",
    "    df_balanced[df_balanced[\"sentiment\"] == \"neutral\"].sample(n=min_count, random_state=42)\n",
    "], ignore_index=True)\n",
    "df_balanced = df_balanced.sample(frac=1, random_state=42).reset_index(drop=True)\n",
    "\n"
   ]
  },
  {
   "cell_type": "code",
   "execution_count": 19,
   "id": "b4f9d83d",
   "metadata": {
    "execution": {
     "iopub.execute_input": "2025-07-24T11:33:45.670153Z",
     "iopub.status.busy": "2025-07-24T11:33:45.669898Z",
     "iopub.status.idle": "2025-07-24T11:33:45.881673Z",
     "shell.execute_reply": "2025-07-24T11:33:45.880797Z",
     "shell.execute_reply.started": "2025-07-24T11:33:45.670136Z"
    },
    "papermill": {
     "duration": 0.238119,
     "end_time": "2025-07-24T01:45:53.571928",
     "exception": false,
     "start_time": "2025-07-24T01:45:53.333809",
     "status": "completed"
    },
    "tags": [],
    "trusted": true
   },
   "outputs": [],
   "source": [
    "df_balanced = df_balanced.dropna(subset=['text', 'sentiment'])\n"
   ]
  },
  {
   "cell_type": "code",
   "execution_count": 20,
   "id": "258b5c40",
   "metadata": {
    "execution": {
     "iopub.execute_input": "2025-07-24T11:33:45.882869Z",
     "iopub.status.busy": "2025-07-24T11:33:45.882644Z",
     "iopub.status.idle": "2025-07-24T11:33:45.886787Z",
     "shell.execute_reply": "2025-07-24T11:33:45.885884Z",
     "shell.execute_reply.started": "2025-07-24T11:33:45.882852Z"
    },
    "papermill": {
     "duration": 0.014057,
     "end_time": "2025-07-24T01:45:53.595691",
     "exception": false,
     "start_time": "2025-07-24T01:45:53.581634",
     "status": "completed"
    },
    "tags": [],
    "trusted": true
   },
   "outputs": [],
   "source": [
    "## check null values"
   ]
  },
  {
   "cell_type": "code",
   "execution_count": 21,
   "id": "985899e6",
   "metadata": {
    "execution": {
     "iopub.execute_input": "2025-07-24T11:33:45.887890Z",
     "iopub.status.busy": "2025-07-24T11:33:45.887635Z",
     "iopub.status.idle": "2025-07-24T11:33:46.018906Z",
     "shell.execute_reply": "2025-07-24T11:33:46.018120Z",
     "shell.execute_reply.started": "2025-07-24T11:33:45.887873Z"
    },
    "papermill": {
     "duration": 0.123098,
     "end_time": "2025-07-24T01:45:53.727737",
     "exception": false,
     "start_time": "2025-07-24T01:45:53.604639",
     "status": "completed"
    },
    "tags": [],
    "trusted": true
   },
   "outputs": [
    {
     "data": {
      "text/plain": [
       "sentiment    0\n",
       "text         0\n",
       "dtype: int64"
      ]
     },
     "execution_count": 21,
     "metadata": {},
     "output_type": "execute_result"
    }
   ],
   "source": [
    "df_balanced.isnull().sum()"
   ]
  },
  {
   "cell_type": "code",
   "execution_count": 22,
   "id": "53299981",
   "metadata": {
    "execution": {
     "iopub.execute_input": "2025-07-24T11:33:46.020307Z",
     "iopub.status.busy": "2025-07-24T11:33:46.019985Z",
     "iopub.status.idle": "2025-07-24T11:33:46.065521Z",
     "shell.execute_reply": "2025-07-24T11:33:46.064747Z",
     "shell.execute_reply.started": "2025-07-24T11:33:46.020281Z"
    },
    "papermill": {
     "duration": 0.042619,
     "end_time": "2025-07-24T01:45:53.779865",
     "exception": false,
     "start_time": "2025-07-24T01:45:53.737246",
     "status": "completed"
    },
    "tags": [],
    "trusted": true
   },
   "outputs": [
    {
     "name": "stdout",
     "output_type": "stream",
     "text": [
      "sentiment\n",
      "negative    189551\n",
      "neutral     189551\n",
      "positive    189551\n",
      "Name: count, dtype: int64\n"
     ]
    }
   ],
   "source": [
    "print(df_balanced[\"sentiment\"].value_counts())\n"
   ]
  },
  {
   "cell_type": "markdown",
   "id": "34300882",
   "metadata": {
    "papermill": {
     "duration": 0.008763,
     "end_time": "2025-07-24T01:45:53.799060",
     "exception": false,
     "start_time": "2025-07-24T01:45:53.790297",
     "status": "completed"
    },
    "tags": []
   },
   "source": [
    "## Arabic_stopwords"
   ]
  },
  {
   "cell_type": "code",
   "execution_count": 23,
   "id": "0829af86",
   "metadata": {
    "execution": {
     "iopub.execute_input": "2025-07-24T11:33:46.066734Z",
     "iopub.status.busy": "2025-07-24T11:33:46.066535Z",
     "iopub.status.idle": "2025-07-24T11:33:59.070733Z",
     "shell.execute_reply": "2025-07-24T11:33:59.069901Z",
     "shell.execute_reply.started": "2025-07-24T11:33:46.066718Z"
    },
    "papermill": {
     "duration": 12.242775,
     "end_time": "2025-07-24T01:46:06.050714",
     "exception": false,
     "start_time": "2025-07-24T01:45:53.807939",
     "status": "completed"
    },
    "tags": [],
    "trusted": true
   },
   "outputs": [
    {
     "name": "stdout",
     "output_type": "stream",
     "text": [
      "308403    كتاب رائع ، الكاتب الكبري مكانتها تتناسب بشكل ...\n",
      "85771     اكره الزجاجه اكره الزجاجه ، فقط استخدمها مرات ...\n",
      "372252    وذلك توزيع ارباح الاسهم بمبلغ مليار خلال الربع...\n",
      "121988    ان النهضه العمرانيه السريعه قطاع العقارات ادي ...\n",
      "123698    النور السماء يكون تسعه رقم سيئ الحظ بالنسبه لج...\n",
      "Name: text, dtype: object\n"
     ]
    }
   ],
   "source": [
    "\n",
    "arabic_stopwords = set(stopwords.words('arabic'))\n",
    "extra_stopwords = {\n",
    "    'ده', 'دي', 'دول', 'كده', 'كدا', 'او', 'يعني', 'مثلا', \n",
    "    'اصلا', 'ايه', 'انتا', 'انتي', 'انا', 'احنا', 'انتو', \n",
    "    'هو', 'هي', 'هما', 'لو', 'فيه', 'فيها', 'كل', 'اي', \n",
    "    'كذا', 'كتير', 'قوي', 'اوي'\n",
    "}\n",
    "arabic_stopwords.update(extra_stopwords)\n",
    "\n",
    "@lru_cache(maxsize=10000)\n",
    "def is_stopword(word):\n",
    "    return word in arabic_stopwords\n",
    "\n",
    "def remove_stopwords(text):\n",
    "    return ' '.join(filter(lambda w: not is_stopword(w), text.split()))\n",
    "\n",
    "df_balanced['text'] = df_balanced['text'].astype(str).apply(remove_stopwords)\n",
    "df_balanced = df_balanced[df_balanced['text'].str.strip() != \"\"]\n",
    "\n",
    "\n",
    "print(df_balanced.sample(5)['text'])\n"
   ]
  },
  {
   "cell_type": "markdown",
   "id": "42d7aa55",
   "metadata": {
    "papermill": {
     "duration": 0.010393,
     "end_time": "2025-07-24T01:46:06.071971",
     "exception": false,
     "start_time": "2025-07-24T01:46:06.061578",
     "status": "completed"
    },
    "tags": []
   },
   "source": [
    "## We decided not to use stemming because we will rely on large models like BERT, which can effectively handle different word forms directly.”"
   ]
  },
  {
   "cell_type": "markdown",
   "id": "350fe63b",
   "metadata": {
    "papermill": {
     "duration": 0.011387,
     "end_time": "2025-07-24T01:46:06.093999",
     "exception": false,
     "start_time": "2025-07-24T01:46:06.082612",
     "status": "completed"
    },
    "tags": []
   },
   "source": [
    "## Split Data"
   ]
  },
  {
   "cell_type": "code",
   "execution_count": 24,
   "id": "b0347b57",
   "metadata": {
    "execution": {
     "iopub.execute_input": "2025-07-24T11:33:59.071913Z",
     "iopub.status.busy": "2025-07-24T11:33:59.071656Z",
     "iopub.status.idle": "2025-07-24T11:33:59.967989Z",
     "shell.execute_reply": "2025-07-24T11:33:59.967107Z",
     "shell.execute_reply.started": "2025-07-24T11:33:59.071890Z"
    },
    "papermill": {
     "duration": 0.705809,
     "end_time": "2025-07-24T01:46:06.810295",
     "exception": false,
     "start_time": "2025-07-24T01:46:06.104486",
     "status": "completed"
    },
    "tags": [],
    "trusted": true
   },
   "outputs": [
    {
     "name": "stdout",
     "output_type": "stream",
     "text": [
      "Train: (454901, 2)\n",
      "Validation: (56863, 2)\n",
      "Test: (56863, 2)\n",
      "\n",
      "Train distribution:\n",
      " sentiment\n",
      "positive    151639\n",
      "negative    151634\n",
      "neutral     151628\n",
      "Name: count, dtype: int64\n",
      "\n",
      "Validation distribution:\n",
      " sentiment\n",
      "positive    18955\n",
      "negative    18954\n",
      "neutral     18954\n",
      "Name: count, dtype: int64\n",
      "\n",
      "Test distribution:\n",
      " sentiment\n",
      "positive    18955\n",
      "negative    18955\n",
      "neutral     18953\n",
      "Name: count, dtype: int64\n"
     ]
    }
   ],
   "source": [
    "\n",
    "df_train, df_temp = train_test_split(df_balanced, test_size=0.2, stratify=df_balanced['sentiment'], random_state=42)\n",
    "\n",
    "df_val, df_test = train_test_split(df_temp, test_size=0.5, stratify=df_temp['sentiment'], random_state=42)\n",
    "\n",
    "\n",
    "\n",
    "print(\"Train:\", df_train.shape)\n",
    "print(\"Validation:\", df_val.shape)\n",
    "print(\"Test:\", df_test.shape)\n",
    "\n",
    "print(\"\\nTrain distribution:\\n\", df_train['sentiment'].value_counts())\n",
    "print(\"\\nValidation distribution:\\n\", df_val['sentiment'].value_counts())\n",
    "print(\"\\nTest distribution:\\n\", df_test['sentiment'].value_counts())\n"
   ]
  },
  {
   "cell_type": "markdown",
   "id": "8a8e7d3b",
   "metadata": {
    "papermill": {
     "duration": 0.009173,
     "end_time": "2025-07-24T01:46:06.829289",
     "exception": false,
     "start_time": "2025-07-24T01:46:06.820116",
     "status": "completed"
    },
    "tags": []
   },
   "source": [
    "## Encoding "
   ]
  },
  {
   "cell_type": "code",
   "execution_count": 25,
   "id": "ec6c1cba",
   "metadata": {
    "execution": {
     "iopub.execute_input": "2025-07-24T11:33:59.969231Z",
     "iopub.status.busy": "2025-07-24T11:33:59.968900Z",
     "iopub.status.idle": "2025-07-24T11:36:01.426414Z",
     "shell.execute_reply": "2025-07-24T11:36:01.425705Z",
     "shell.execute_reply.started": "2025-07-24T11:33:59.969211Z"
    },
    "papermill": {
     "duration": 107.555163,
     "end_time": "2025-07-24T01:47:54.393600",
     "exception": false,
     "start_time": "2025-07-24T01:46:06.838437",
     "status": "completed"
    },
    "tags": [],
    "trusted": true
   },
   "outputs": [],
   "source": [
    "\n",
    "vectorizer = TfidfVectorizer(max_features=10000, ngram_range=(1,2))\n",
    "\n",
    "X_train = vectorizer.fit_transform(df_train['text'])\n",
    "X_val = vectorizer.transform(df_val['text'])\n",
    "X_test = vectorizer.transform(df_test['text'])\n",
    "\n",
    "label_map = {'positive': 0, 'negative': 1, 'neutral': 2}\n",
    "y_train = df_train['sentiment'].map(label_map)\n",
    "y_val = df_val['sentiment'].map(label_map)\n",
    "y_test = df_test['sentiment'].map(label_map)\n",
    "\n",
    "\n"
   ]
  },
  {
   "cell_type": "markdown",
   "id": "3c36c72f",
   "metadata": {
    "papermill": {
     "duration": 0.009957,
     "end_time": "2025-07-24T01:47:54.414627",
     "exception": false,
     "start_time": "2025-07-24T01:47:54.404670",
     "status": "completed"
    },
    "tags": []
   },
   "source": [
    "## apply LogisticRegression model "
   ]
  },
  {
   "cell_type": "code",
   "execution_count": 26,
   "id": "334f4817",
   "metadata": {
    "execution": {
     "iopub.execute_input": "2025-07-24T11:36:01.427583Z",
     "iopub.status.busy": "2025-07-24T11:36:01.427278Z",
     "iopub.status.idle": "2025-07-24T11:37:19.412450Z",
     "shell.execute_reply": "2025-07-24T11:37:19.411826Z",
     "shell.execute_reply.started": "2025-07-24T11:36:01.427553Z"
    },
    "papermill": {
     "duration": 91.353028,
     "end_time": "2025-07-24T01:49:25.776962",
     "exception": false,
     "start_time": "2025-07-24T01:47:54.423934",
     "status": "completed"
    },
    "tags": [],
    "trusted": true
   },
   "outputs": [
    {
     "name": "stdout",
     "output_type": "stream",
     "text": [
      "Validation Report:\n",
      "               precision    recall  f1-score   support\n",
      "\n",
      "           0       0.83      0.81      0.82     18955\n",
      "           1       0.81      0.79      0.80     18954\n",
      "           2       0.89      0.93      0.91     18954\n",
      "\n",
      "    accuracy                           0.84     56863\n",
      "   macro avg       0.84      0.84      0.84     56863\n",
      "weighted avg       0.84      0.84      0.84     56863\n",
      "\n",
      "Test Report:\n",
      "               precision    recall  f1-score   support\n",
      "\n",
      "           0       0.83      0.82      0.83     18955\n",
      "           1       0.82      0.79      0.80     18955\n",
      "           2       0.89      0.93      0.91     18953\n",
      "\n",
      "    accuracy                           0.85     56863\n",
      "   macro avg       0.85      0.85      0.85     56863\n",
      "weighted avg       0.85      0.85      0.85     56863\n",
      "\n"
     ]
    }
   ],
   "source": [
    "model = LogisticRegression(max_iter=1000, class_weight='balanced')\n",
    "model.fit(X_train, y_train)\n",
    "\n",
    "y_pred_val = model.predict(X_val)\n",
    "print(\"Validation Report:\\n\", classification_report(y_val, y_pred_val))\n",
    "\n",
    "y_pred_test = model.predict(X_test)\n",
    "print(\"Test Report:\\n\", classification_report(y_test, y_pred_test))"
   ]
  },
  {
   "cell_type": "code",
   "execution_count": 27,
   "id": "69d8b1bb",
   "metadata": {
    "execution": {
     "iopub.execute_input": "2025-07-24T11:37:19.413599Z",
     "iopub.status.busy": "2025-07-24T11:37:19.413186Z",
     "iopub.status.idle": "2025-07-24T11:37:19.454527Z",
     "shell.execute_reply": "2025-07-24T11:37:19.453955Z",
     "shell.execute_reply.started": "2025-07-24T11:37:19.413577Z"
    },
    "papermill": {
     "duration": 0.053615,
     "end_time": "2025-07-24T01:49:25.850127",
     "exception": false,
     "start_time": "2025-07-24T01:49:25.796512",
     "status": "completed"
    },
    "tags": [],
    "trusted": true
   },
   "outputs": [
    {
     "name": "stdout",
     "output_type": "stream",
     "text": [
      "                                                     text sentiment  predicted\n",
      "564362  الحقيقه تؤلمني يزال يتعين علي قراءه الكتاب ، ا...  positive          1\n",
      "262090  يصدم روني دوبس يبدو ان ديفيد كروس يحب جورج دبل...  negative          0\n",
      "225717                               جاه امر بازالته عادي   neutral          1\n",
      "44258   كانت الايام يذكرني نوعا بـ صبي جيد يتحدث ايام ...  negative          0\n",
      "50725   يسلمك وانت مافطرتش؟ دستورغيرشرعيلرئيسغيرشرعي د...  negative          0\n",
      "474576  الامر لقد قرات الكتاب ووجدت انه لطيف قليلااعتق...  negative          0\n",
      "432061  الاب القانون نشيطا المنتج اقل سعر وجدت علي الا...  positive          1\n",
      "240163                                    اوه، انه اسطوره   neutral          1\n",
      "38857   مختلف كونك معجبا كبيرا بـ ، لفت انتباهي الي اص...  positive          1\n",
      "562661              التقدم والتطور والانجاز ماتحتويه رؤيه  positive          2\n"
     ]
    }
   ],
   "source": [
    "y_pred_test = model.predict(X_test)\n",
    "\n",
    "df_test_errors = df_test.copy()\n",
    "df_test_errors['predicted'] = y_pred_test\n",
    "df_test_errors['true'] = y_test.values\n",
    "df_test_errors = df_test_errors[df_test_errors['predicted'] != df_test_errors['true']]\n",
    "\n",
    "print(df_test_errors[['text', 'sentiment', 'predicted']].head(10))\n"
   ]
  },
  {
   "cell_type": "markdown",
   "id": "cc9a1b06",
   "metadata": {
    "papermill": {
     "duration": 0.011486,
     "end_time": "2025-07-24T01:49:25.877718",
     "exception": false,
     "start_time": "2025-07-24T01:49:25.866232",
     "status": "completed"
    },
    "tags": []
   },
   "source": [
    "## apply xgboost model "
   ]
  },
  {
   "cell_type": "code",
   "execution_count": 28,
   "id": "135e6cc3",
   "metadata": {
    "execution": {
     "iopub.execute_input": "2025-07-24T11:37:19.458084Z",
     "iopub.status.busy": "2025-07-24T11:37:19.457889Z",
     "iopub.status.idle": "2025-07-24T11:46:00.614387Z",
     "shell.execute_reply": "2025-07-24T11:46:00.613607Z",
     "shell.execute_reply.started": "2025-07-24T11:37:19.458068Z"
    },
    "papermill": {
     "duration": 482.153111,
     "end_time": "2025-07-24T01:57:28.042553",
     "exception": false,
     "start_time": "2025-07-24T01:49:25.889442",
     "status": "completed"
    },
    "tags": [],
    "trusted": true
   },
   "outputs": [
    {
     "name": "stdout",
     "output_type": "stream",
     "text": [
      "Computed class weights: {0: 0.9999648287489806, 1: 0.9999978017243274, 2: 1.0000373721652114}\n",
      "Validation Report XGBoost:\n",
      "               precision    recall  f1-score   support\n",
      "\n",
      "           0       0.81      0.73      0.77     18955\n",
      "           1       0.79      0.69      0.74     18954\n",
      "           2       0.78      0.96      0.86     18954\n",
      "\n",
      "    accuracy                           0.79     56863\n",
      "   macro avg       0.79      0.79      0.79     56863\n",
      "weighted avg       0.79      0.79      0.79     56863\n",
      "\n",
      "Test Report XGBoost:\n",
      "               precision    recall  f1-score   support\n",
      "\n",
      "           0       0.81      0.74      0.77     18955\n",
      "           1       0.80      0.69      0.74     18955\n",
      "           2       0.78      0.96      0.86     18953\n",
      "\n",
      "    accuracy                           0.80     56863\n",
      "   macro avg       0.80      0.80      0.79     56863\n",
      "weighted avg       0.80      0.80      0.79     56863\n",
      "\n"
     ]
    }
   ],
   "source": [
    "classes = np.unique(y_train)\n",
    "weights = compute_class_weight(class_weight='balanced', classes=classes, y=y_train)\n",
    "class_weight_dict = dict(zip(classes, weights))\n",
    "print(\"Computed class weights:\", class_weight_dict)\n",
    "\n",
    "sample_weights = y_train.map(class_weight_dict)\n",
    "\n",
    "xgb_model = xgb.XGBClassifier(use_label_encoder=False, eval_metric='mlogloss')\n",
    "xgb_model.fit(X_train, y_train, sample_weight=sample_weights)\n",
    "\n",
    "y_pred_val = xgb_model.predict(X_val)\n",
    "print(\"Validation Report XGBoost:\\n\", classification_report(y_val, y_pred_val))\n",
    "\n",
    "y_pred_test = xgb_model.predict(X_test)\n",
    "print(\"Test Report XGBoost:\\n\", classification_report(y_test, y_pred_test))\n"
   ]
  },
  {
   "cell_type": "markdown",
   "id": "746f46c6",
   "metadata": {
    "papermill": {
     "duration": 0.009276,
     "end_time": "2025-07-24T01:57:28.061513",
     "exception": false,
     "start_time": "2025-07-24T01:57:28.052237",
     "status": "completed"
    },
    "tags": []
   },
   "source": [
    "## ensemble two models"
   ]
  },
  {
   "cell_type": "code",
   "execution_count": 29,
   "id": "172c0e05",
   "metadata": {
    "execution": {
     "iopub.execute_input": "2025-07-24T11:46:00.615867Z",
     "iopub.status.busy": "2025-07-24T11:46:00.615507Z",
     "iopub.status.idle": "2025-07-24T11:46:01.589959Z",
     "shell.execute_reply": "2025-07-24T11:46:01.589215Z",
     "shell.execute_reply.started": "2025-07-24T11:46:00.615837Z"
    },
    "papermill": {
     "duration": 0.925965,
     "end_time": "2025-07-24T01:57:28.996803",
     "exception": false,
     "start_time": "2025-07-24T01:57:28.070838",
     "status": "completed"
    },
    "tags": [],
    "trusted": true
   },
   "outputs": [
    {
     "name": "stdout",
     "output_type": "stream",
     "text": [
      "Validation Report Ensemble:\n",
      "               precision    recall  f1-score   support\n",
      "\n",
      "           0       0.85      0.74      0.79     18955\n",
      "           1       0.75      0.83      0.79     18954\n",
      "           2       0.89      0.91      0.90     18954\n",
      "\n",
      "    accuracy                           0.83     56863\n",
      "   macro avg       0.83      0.83      0.83     56863\n",
      "weighted avg       0.83      0.83      0.83     56863\n",
      "\n",
      "Test Report Ensemble:\n",
      "               precision    recall  f1-score   support\n",
      "\n",
      "           0       0.85      0.75      0.80     18955\n",
      "           1       0.76      0.83      0.79     18955\n",
      "           2       0.89      0.92      0.91     18953\n",
      "\n",
      "    accuracy                           0.83     56863\n",
      "   macro avg       0.83      0.83      0.83     56863\n",
      "weighted avg       0.83      0.83      0.83     56863\n",
      "\n"
     ]
    }
   ],
   "source": [
    "y_pred_logistic_val = model.predict(X_val)\n",
    "y_pred_logistic_test = model.predict(X_test)\n",
    "\n",
    "y_pred_xgb_val = xgb_model.predict(X_val)\n",
    "y_pred_xgb_test = xgb_model.predict(X_test)\n",
    "\n",
    "def ensemble_predictions(pred_logistic, pred_xgb):\n",
    "    final_pred = []\n",
    "    for l, x in zip(pred_logistic, pred_xgb):\n",
    "        if l == x:\n",
    "            final_pred.append(l)\n",
    "        elif x == 1:   \n",
    "            final_pred.append(1)\n",
    "        else:\n",
    "            final_pred.append(l)  \n",
    "    return np.array(final_pred)\n",
    "\n",
    "ensemble_val = ensemble_predictions(y_pred_logistic_val, y_pred_xgb_val)\n",
    "print(\"Validation Report Ensemble:\\n\", classification_report(y_val, ensemble_val))\n",
    "\n",
    "ensemble_test = ensemble_predictions(y_pred_logistic_test, y_pred_xgb_test)\n",
    "print(\"Test Report Ensemble:\\n\", classification_report(y_test, ensemble_test))"
   ]
  },
  {
   "cell_type": "code",
   "execution_count": 32,
   "id": "4b8eeb46",
   "metadata": {
    "execution": {
     "iopub.execute_input": "2025-07-24T11:47:16.680086Z",
     "iopub.status.busy": "2025-07-24T11:47:16.679813Z",
     "iopub.status.idle": "2025-07-24T11:47:17.405961Z",
     "shell.execute_reply": "2025-07-24T11:47:17.405283Z",
     "shell.execute_reply.started": "2025-07-24T11:47:16.680068Z"
    },
    "papermill": {
     "duration": 0.060574,
     "end_time": "2025-07-24T01:57:29.067412",
     "exception": true,
     "start_time": "2025-07-24T01:57:29.006838",
     "status": "failed"
    },
    "tags": [],
    "trusted": true
   },
   "outputs": [
    {
     "data": {
      "image/png": "[encoded data removed]",
      "text/plain": [
       "<Figure size 800x600 with 2 Axes>"
      ]
     },
     "metadata": {},
     "output_type": "display_data"
    },
    {
     "data": {
      "image/png": "[encoded data removed]",
      "text/plain": [
       "<Figure size 800x600 with 2 Axes>"
      ]
     },
     "metadata": {},
     "output_type": "display_data"
    },
    {
     "name": "stdout",
     "output_type": "stream",
     "text": [
      "Validation Report Ensemble:\n",
      "               precision    recall  f1-score   support\n",
      "\n",
      "           0       0.85      0.74      0.79     18955\n",
      "           1       0.75      0.83      0.79     18954\n",
      "           2       0.89      0.91      0.90     18954\n",
      "\n",
      "    accuracy                           0.83     56863\n",
      "   macro avg       0.83      0.83      0.83     56863\n",
      "weighted avg       0.83      0.83      0.83     56863\n",
      "\n",
      "Test Report Ensemble:\n",
      "               precision    recall  f1-score   support\n",
      "\n",
      "           0       0.85      0.75      0.80     18955\n",
      "           1       0.76      0.83      0.79     18955\n",
      "           2       0.89      0.92      0.91     18953\n",
      "\n",
      "    accuracy                           0.83     56863\n",
      "   macro avg       0.83      0.83      0.83     56863\n",
      "weighted avg       0.83      0.83      0.83     56863\n",
      "\n"
     ]
    }
   ],
   "source": [
    "def plot_confusion(y_true, y_pred, title):\n",
    "    cm = confusion_matrix(y_true, y_pred)\n",
    "    labels = ['positive', 'negative', 'neutral']\n",
    "    plt.figure(figsize=(8,6))\n",
    "    sns.heatmap(cm, annot=True, fmt='d', cmap='Blues', xticklabels=labels, yticklabels=labels)\n",
    "    plt.xlabel('Predicted')\n",
    "    plt.ylabel('True')\n",
    "    plt.title(title)\n",
    "    plt.show()\n",
    "\n",
    "plot_confusion(y_val, ensemble_val, \"Confusion Matrix - Validation Ensemble\")\n",
    "\n",
    "plot_confusion(y_test, ensemble_test, \"Confusion Matrix - Test Ensemble\")\n",
    "\n",
    "print(\"Validation Report Ensemble:\\n\", classification_report(y_val, ensemble_val))\n",
    "print(\"Test Report Ensemble:\\n\", classification_report(y_test, ensemble_test))\n"
   ]
  },
  {
   "cell_type": "markdown",
   "id": "38035ee4",
   "metadata": {
    "papermill": {
     "duration": null,
     "end_time": null,
     "exception": null,
     "start_time": null,
     "status": "pending"
    },
    "tags": []
   },
   "source": [
    "## apply arabertv02"
   ]
  },
  {
   "cell_type": "code",
   "execution_count": 33,
   "id": "b7ef5659",
   "metadata": {
    "execution": {
     "iopub.execute_input": "2025-07-24T11:47:21.358168Z",
     "iopub.status.busy": "2025-07-24T11:47:21.357515Z",
     "iopub.status.idle": "2025-07-24T11:49:06.826573Z",
     "shell.execute_reply": "2025-07-24T11:49:06.825407Z",
     "shell.execute_reply.started": "2025-07-24T11:47:21.358142Z"
    },
    "papermill": {
     "duration": null,
     "end_time": null,
     "exception": null,
     "start_time": null,
     "status": "pending"
    },
    "tags": [],
    "trusted": true
   },
   "outputs": [
    {
     "data": {
      "application/vnd.jupyter.widget-view+json": {
       "model_id": "8167f00cb0f64a5ab0147d30521db186",
       "version_major": 2,
       "version_minor": 0
      },
      "text/plain": [
       "tokenizer_config.json:   0%|          | 0.00/381 [00:00<?, ?B/s]"
      ]
     },
     "metadata": {},
     "output_type": "display_data"
    },
    {
     "data": {
      "application/vnd.jupyter.widget-view+json": {
       "model_id": "9d60d6c1cce246aa94147db18b733996",
       "version_major": 2,
       "version_minor": 0
      },
      "text/plain": [
       "config.json:   0%|          | 0.00/384 [00:00<?, ?B/s]"
      ]
     },
     "metadata": {},
     "output_type": "display_data"
    },
    {
     "data": {
      "application/vnd.jupyter.widget-view+json": {
       "model_id": "a372d6302ba44ffaa3e13440958d29cb",
       "version_major": 2,
       "version_minor": 0
      },
      "text/plain": [
       "vocab.txt: 0.00B [00:00, ?B/s]"
      ]
     },
     "metadata": {},
     "output_type": "display_data"
    },
    {
     "data": {
      "application/vnd.jupyter.widget-view+json": {
       "model_id": "a42faa7001fc48428aec24e8ab8ece6b",
       "version_major": 2,
       "version_minor": 0
      },
      "text/plain": [
       "tokenizer.json: 0.00B [00:00, ?B/s]"
      ]
     },
     "metadata": {},
     "output_type": "display_data"
    },
    {
     "data": {
      "application/vnd.jupyter.widget-view+json": {
       "model_id": "6fa75c6c2bd84b8682fcb3c47bde7845",
       "version_major": 2,
       "version_minor": 0
      },
      "text/plain": [
       "special_tokens_map.json:   0%|          | 0.00/112 [00:00<?, ?B/s]"
      ]
     },
     "metadata": {},
     "output_type": "display_data"
    },
    {
     "name": "stdout",
     "output_type": "stream",
     "text": [
      " Tokenization done!\n"
     ]
    }
   ],
   "source": [
    "tokenizer = AutoTokenizer.from_pretrained(\"aubmindlab/bert-base-arabertv02\")\n",
    "\n",
    "label_map = {'positive': 0, 'negative': 1, 'neutral': 2}\n",
    "df_train['label'] = df_train['sentiment'].map(label_map)\n",
    "df_val['label'] = df_val['sentiment'].map(label_map)\n",
    "df_test['label'] = df_test['sentiment'].map(label_map)\n",
    "\n",
    "def tokenize_data(df, tokenizer, max_length=256):\n",
    "    return tokenizer(list(df['text']), truncation=True, padding=True, max_length=max_length)\n",
    "    \n",
    "train_encodings = tokenize_data(df_train, tokenizer)\n",
    "val_encodings = tokenize_data(df_val, tokenizer)\n",
    "test_encodings = tokenize_data(df_test, tokenizer)\n",
    "\n",
    "print(\" Tokenization done!\")\n"
   ]
  },
  {
   "cell_type": "code",
   "execution_count": 34,
   "id": "3905112e",
   "metadata": {
    "execution": {
     "iopub.execute_input": "2025-07-24T11:49:28.960187Z",
     "iopub.status.busy": "2025-07-24T11:49:28.959900Z",
     "iopub.status.idle": "2025-07-24T11:49:28.965289Z",
     "shell.execute_reply": "2025-07-24T11:49:28.964721Z",
     "shell.execute_reply.started": "2025-07-24T11:49:28.960166Z"
    },
    "papermill": {
     "duration": null,
     "end_time": null,
     "exception": null,
     "start_time": null,
     "status": "pending"
    },
    "tags": [],
    "trusted": true
   },
   "outputs": [],
   "source": [
    "\n",
    "class ArabicSentimentDataset(Dataset):\n",
    "    def __init__(self, encodings, labels):\n",
    "        self.encodings = encodings\n",
    "        self.labels = labels\n",
    "\n",
    "    def __getitem__(self, idx):\n",
    "        item = {key: torch.tensor(val[idx]) for key, val in self.encodings.items()}\n",
    "        item['labels'] = torch.tensor(self.labels[idx])\n",
    "        return item\n",
    "\n",
    "    def __len__(self):\n",
    "        return len(self.labels)"
   ]
  },
  {
   "cell_type": "code",
   "execution_count": 38,
   "id": "f22ff1d6",
   "metadata": {
    "execution": {
     "iopub.execute_input": "2025-07-24T12:00:25.152768Z",
     "iopub.status.busy": "2025-07-24T12:00:25.152040Z",
     "iopub.status.idle": "2025-07-24T12:00:25.167726Z",
     "shell.execute_reply": "2025-07-24T12:00:25.166924Z",
     "shell.execute_reply.started": "2025-07-24T12:00:25.152737Z"
    },
    "papermill": {
     "duration": null,
     "end_time": null,
     "exception": null,
     "start_time": null,
     "status": "pending"
    },
    "tags": [],
    "trusted": true
   },
   "outputs": [],
   "source": [
    "train_dataset = ArabicSentimentDataset(train_encodings, df_train['label'].tolist())\n",
    "val_dataset = ArabicSentimentDataset(val_encodings, df_val['label'].tolist())\n",
    "test_dataset = ArabicSentimentDataset(test_encodings, df_test['label'].tolist())\n",
    "\n",
    "train_loader = DataLoader(train_dataset, batch_size=32, shuffle=True)  \n",
    "val_loader = DataLoader(val_dataset, batch_size=32, shuffle=False)\n",
    "test_loader = DataLoader(test_dataset, batch_size=32, shuffle=False)"
   ]
  },
  {
   "cell_type": "code",
   "execution_count": 39,
   "id": "4df3f43f",
   "metadata": {
    "execution": {
     "iopub.execute_input": "2025-07-24T12:00:28.124007Z",
     "iopub.status.busy": "2025-07-24T12:00:28.123708Z",
     "iopub.status.idle": "2025-07-24T17:38:57.055945Z",
     "shell.execute_reply": "2025-07-24T17:38:57.055240Z",
     "shell.execute_reply.started": "2025-07-24T12:00:28.123976Z"
    },
    "papermill": {
     "duration": null,
     "end_time": null,
     "exception": null,
     "start_time": null,
     "status": "pending"
    },
    "tags": [],
    "trusted": true
   },
   "outputs": [
    {
     "name": "stderr",
     "output_type": "stream",
     "text": [
      "Some weights of BertForSequenceClassification were not initialized from the model checkpoint at aubmindlab/bert-base-arabertv02 and are newly initialized: ['classifier.bias', 'classifier.weight']\n",
      "You should probably TRAIN this model on a down-stream task to be able to use it for predictions and inference.\n",
      "/tmp/ipykernel_36/1947641322.py:22: FutureWarning: `torch.cuda.amp.GradScaler(args...)` is deprecated. Please use `torch.amp.GradScaler('cuda', args...)` instead.\n",
      "  scaler = GradScaler(enabled=use_amp)\n",
      "Epoch 1/6:   0%|          | 0/14216 [00:00<?, ?it/s]/tmp/ipykernel_36/1947641322.py:33: FutureWarning: `torch.cuda.amp.autocast(args...)` is deprecated. Please use `torch.amp.autocast('cuda', args...)` instead.\n",
      "  with autocast(enabled=use_amp):\n",
      "Epoch 1/6: 100%|██████████| 14216/14216 [1:21:20<00:00,  2.91it/s, loss=0.2975]\n",
      "/tmp/ipykernel_36/1947641322.py:61: FutureWarning: `torch.cuda.amp.autocast(args...)` is deprecated. Please use `torch.amp.autocast('cuda', args...)` instead.\n",
      "  with autocast(enabled=use_amp):\n"
     ]
    },
    {
     "name": "stdout",
     "output_type": "stream",
     "text": [
      " Epoch 1 | Train Loss: 0.2613 | Val Loss: 0.2221 | Train Acc: 0.8910 | Val Acc: 0.9075 | Precision: 0.9081 | Recall: 0.9075 | F1: 0.9073 | LR: 0.00001917\n",
      " Best model and tokenizer saved to best_model_dir\n"
     ]
    },
    {
     "name": "stderr",
     "output_type": "stream",
     "text": [
      "Epoch 2/6:   0%|          | 0/14216 [00:00<?, ?it/s]/tmp/ipykernel_36/1947641322.py:33: FutureWarning: `torch.cuda.amp.autocast(args...)` is deprecated. Please use `torch.amp.autocast('cuda', args...)` instead.\n",
      "  with autocast(enabled=use_amp):\n",
      "Epoch 2/6: 100%|██████████| 14216/14216 [1:21:06<00:00,  2.92it/s, loss=0.1804]\n",
      "/tmp/ipykernel_36/1947641322.py:61: FutureWarning: `torch.cuda.amp.autocast(args...)` is deprecated. Please use `torch.amp.autocast('cuda', args...)` instead.\n",
      "  with autocast(enabled=use_amp):\n"
     ]
    },
    {
     "name": "stdout",
     "output_type": "stream",
     "text": [
      " Epoch 2 | Train Loss: 0.1914 | Val Loss: 0.2176 | Train Acc: 0.9221 | Val Acc: 0.9138 | Precision: 0.9140 | Recall: 0.9138 | F1: 0.9136 | LR: 0.00001833\n",
      " Best model and tokenizer saved to best_model_dir\n"
     ]
    },
    {
     "name": "stderr",
     "output_type": "stream",
     "text": [
      "Epoch 3/6:   0%|          | 0/14216 [00:00<?, ?it/s]/tmp/ipykernel_36/1947641322.py:33: FutureWarning: `torch.cuda.amp.autocast(args...)` is deprecated. Please use `torch.amp.autocast('cuda', args...)` instead.\n",
      "  with autocast(enabled=use_amp):\n",
      "Epoch 3/6: 100%|██████████| 14216/14216 [1:21:11<00:00,  2.92it/s, loss=0.3291]\n",
      "/tmp/ipykernel_36/1947641322.py:61: FutureWarning: `torch.cuda.amp.autocast(args...)` is deprecated. Please use `torch.amp.autocast('cuda', args...)` instead.\n",
      "  with autocast(enabled=use_amp):\n"
     ]
    },
    {
     "name": "stdout",
     "output_type": "stream",
     "text": [
      " Epoch 3 | Train Loss: 0.1533 | Val Loss: 0.2269 | Train Acc: 0.9384 | Val Acc: 0.9133 | Precision: 0.9136 | Recall: 0.9133 | F1: 0.9134 | LR: 0.00001750\n"
     ]
    },
    {
     "name": "stderr",
     "output_type": "stream",
     "text": [
      "Epoch 4/6:   0%|          | 0/14216 [00:00<?, ?it/s]/tmp/ipykernel_36/1947641322.py:33: FutureWarning: `torch.cuda.amp.autocast(args...)` is deprecated. Please use `torch.amp.autocast('cuda', args...)` instead.\n",
      "  with autocast(enabled=use_amp):\n",
      "Epoch 4/6: 100%|██████████| 14216/14216 [1:21:04<00:00,  2.92it/s, loss=0.0913]\n",
      "/tmp/ipykernel_36/1947641322.py:61: FutureWarning: `torch.cuda.amp.autocast(args...)` is deprecated. Please use `torch.amp.autocast('cuda', args...)` instead.\n",
      "  with autocast(enabled=use_amp):\n"
     ]
    },
    {
     "name": "stdout",
     "output_type": "stream",
     "text": [
      " Epoch 4 | Train Loss: 0.1199 | Val Loss: 0.2424 | Train Acc: 0.9529 | Val Acc: 0.9140 | Precision: 0.9139 | Recall: 0.9140 | F1: 0.9139 | LR: 0.00001667\n",
      " Early stopping triggered!\n",
      "Training completed!\n"
     ]
    }
   ],
   "source": [
    "seed = 42\n",
    "torch.manual_seed(seed)\n",
    "np.random.seed(seed)\n",
    "random.seed(seed)\n",
    "if torch.cuda.is_available():\n",
    "    torch.cuda.manual_seed_all(seed)\n",
    "\n",
    "device = torch.device(\"cuda\" if torch.cuda.is_available() else \"cpu\")\n",
    "use_amp = torch.cuda.is_available()\n",
    "\n",
    "model_name = \"aubmindlab/bert-base-arabertv02\"\n",
    "model = AutoModelForSequenceClassification.from_pretrained(model_name, num_labels=3).to(device)\n",
    "optimizer = torch.optim.AdamW(model.parameters(), lr=2e-5)\n",
    "num_epochs = 6\n",
    "num_training_steps = num_epochs * len(train_loader)\n",
    "lr_scheduler = get_scheduler(\"linear\", optimizer=optimizer, num_warmup_steps=0, num_training_steps=num_training_steps)\n",
    "\n",
    "patience = 2\n",
    "patience_counter = 0\n",
    "best_val_loss = float('inf')\n",
    "\n",
    "scaler = GradScaler(enabled=use_amp)\n",
    "accumulation_steps = 4\n",
    "\n",
    "for epoch in range(num_epochs):\n",
    "    model.train()\n",
    "    epoch_loss, correct, total = 0, 0, 0\n",
    "    progress_bar = tqdm(enumerate(train_loader), total=len(train_loader), desc=f\"Epoch {epoch+1}/{num_epochs}\")\n",
    "    optimizer.zero_grad()\n",
    "\n",
    "    for i, batch in progress_bar:\n",
    "        batch = {k: v.to(device) for k, v in batch.items()}\n",
    "        with autocast(enabled=use_amp):\n",
    "            outputs = model(**batch)\n",
    "            loss = outputs.loss / accumulation_steps\n",
    "\n",
    "        scaler.scale(loss).backward()\n",
    "\n",
    "        if (i + 1) % accumulation_steps == 0:\n",
    "            scaler.step(optimizer)\n",
    "            scaler.update()\n",
    "            optimizer.zero_grad()\n",
    "            lr_scheduler.step()\n",
    "\n",
    "        preds = torch.argmax(outputs.logits, dim=-1)\n",
    "        correct += (preds == batch['labels']).sum().item()\n",
    "        total += batch['labels'].size(0)\n",
    "        epoch_loss += loss.item() * accumulation_steps\n",
    "\n",
    "        progress_bar.set_postfix(loss=f\"{loss.item() * accumulation_steps:.4f}\")\n",
    "\n",
    "    avg_epoch_loss = epoch_loss / len(train_loader)\n",
    "    train_accuracy = correct / total\n",
    "\n",
    "    model.eval()\n",
    "    all_preds, all_labels = [], []\n",
    "    val_loss = 0\n",
    "    with torch.no_grad():\n",
    "        for batch in val_loader:\n",
    "            batch = {k: v.to(device) for k, v in batch.items()}\n",
    "            with autocast(enabled=use_amp):\n",
    "                outputs = model(**batch)\n",
    "                loss = outputs.loss\n",
    "            val_loss += loss.item()\n",
    "            preds = torch.argmax(outputs.logits, dim=-1)\n",
    "            all_preds.extend(preds.cpu().numpy())\n",
    "            all_labels.extend(batch['labels'].cpu().numpy())\n",
    "\n",
    "    avg_val_loss = val_loss / len(val_loader)\n",
    "    acc = accuracy_score(all_labels, all_preds)\n",
    "    precision, recall, f1, _ = precision_recall_fscore_support(all_labels, all_preds, average='weighted')\n",
    "    current_lr = optimizer.param_groups[0]['lr']\n",
    "\n",
    "    print(f\" Epoch {epoch+1} | Train Loss: {avg_epoch_loss:.4f} | Val Loss: {avg_val_loss:.4f} | Train Acc: {train_accuracy:.4f} | Val Acc: {acc:.4f} | Precision: {precision:.4f} | Recall: {recall:.4f} | F1: {f1:.4f} | LR: {current_lr:.8f}\")\n",
    "\n",
    "    if avg_val_loss < best_val_loss:\n",
    "        best_val_loss = avg_val_loss\n",
    "        patience_counter = 0\n",
    "        model.save_pretrained(\"best_model_dir\")\n",
    "        tokenizer.save_pretrained(\"best_model_dir\")\n",
    "        print(\" Best model and tokenizer saved to best_model_dir\")\n",
    "    else:\n",
    "        patience_counter += 1\n",
    "        if patience_counter >= patience:\n",
    "            print(\" Early stopping triggered!\")\n",
    "            break\n",
    "\n",
    "print(\"Training completed!\")"
   ]
  },
  {
   "cell_type": "code",
   "execution_count": null,
   "id": "24149316",
   "metadata": {
    "execution": {
     "iopub.execute_input": "2025-07-24T17:47:06.728002Z",
     "iopub.status.busy": "2025-07-24T17:47:06.727479Z",
     "iopub.status.idle": "2025-07-24T17:50:34.089636Z",
     "shell.execute_reply": "2025-07-24T17:50:34.088879Z",
     "shell.execute_reply.started": "2025-07-24T17:47:06.727976Z"
    },
    "papermill": {
     "duration": null,
     "end_time": null,
     "exception": null,
     "start_time": null,
     "status": "pending"
    },
    "tags": [],
    "trusted": true
   },
   "outputs": [
    {
     "name": "stderr",
     "output_type": "stream",
     "text": [
      "/tmp/ipykernel_36/2978834584.py:9: FutureWarning: `torch.cuda.amp.autocast(args...)` is deprecated. Please use `torch.amp.autocast('cuda', args...)` instead.\n",
      "  with autocast(enabled=use_amp):\n"
     ]
    },
    {
     "name": "stdout",
     "output_type": "stream",
     "text": [
      "\n",
      " Test Results | Accuracy: 0.9147 | Precision: 0.9147 | Recall: 0.9147 | F1 Score: 0.9144\n",
      "\n",
      " Detailed Classification Report:\n",
      "\n",
      "              precision    recall  f1-score   support\n",
      "\n",
      "     neutral       0.92      0.88      0.90     18955\n",
      "    negative       0.88      0.90      0.89     18955\n",
      "    positive       0.94      0.97      0.95     18953\n",
      "\n",
      "    accuracy                           0.91     56863\n",
      "   macro avg       0.91      0.91      0.91     56863\n",
      "weighted avg       0.91      0.91      0.91     56863\n",
      "\n"
     ]
    },
    {
     "data": {
      "image/png": "[encoded data removed]",
      "text/plain": [
       "<Figure size 600x400 with 2 Axes>"
      ]
     },
     "metadata": {},
     "output_type": "display_data"
    }
   ],
   "source": [
    "model = AutoModelForSequenceClassification.from_pretrained(\"best_model_dir\").to(device)\n",
    "tokenizer = AutoTokenizer.from_pretrained(\"best_model_dir\")\n",
    "model.eval()\n",
    "\n",
    "all_preds, all_labels = [], []\n",
    "with torch.no_grad():\n",
    "    for batch in test_loader:\n",
    "        batch = {k: v.to(device) for k, v in batch.items()}\n",
    "        with autocast(enabled=use_amp):\n",
    "            outputs = model(**batch)\n",
    "        preds = torch.argmax(outputs.logits, dim=-1)\n",
    "        all_preds.extend(preds.cpu().numpy())\n",
    "        all_labels.extend(batch['labels'].cpu().numpy())\n",
    "\n",
    "acc = accuracy_score(all_labels, all_preds)\n",
    "precision, recall, f1, _ = precision_recall_fscore_support(all_labels, all_preds, average='weighted')\n",
    "\n",
    "print(f\"\\n Test Results | Accuracy: {acc:.4f} | Precision: {precision:.4f} | Recall: {recall:.4f} | F1 Score: {f1:.4f}\")\n",
    "\n",
    "label_map = {0: \" positive\", 1: \"negative\", 2: \"neutral\"}  \n",
    "print(\"\\n Detailed Classification Report:\\n\")\n",
    "print(classification_report(all_labels, all_preds, target_names=label_map.values()))\n",
    "\n",
    "cm = confusion_matrix(all_labels, all_preds)\n",
    "plt.figure(figsize=(6, 4))\n",
    "sns.heatmap(cm, annot=True, fmt='d', xticklabels=label_map.values(), yticklabels=label_map.values(), cmap=\"Blues\")\n",
    "plt.xlabel(\"Predicted\")\n",
    "plt.ylabel(\"Actual\")\n",
    "plt.title(\"Confusion Matrix\")\n",
    "plt.tight_layout()\n",
    "plt.savefig(\"confusion_matrix.png\")\n",
    "plt.show()"
   ]
  },
  {
   "cell_type": "code",
   "execution_count": null,
   "id": "802c6d50-ce36-4408-9a6e-60898e28b56e",
   "metadata": {
    "trusted": true
   },
   "outputs": [],
   "source": []
  }
 ],
 "metadata": {
  "kaggle": {
   "accelerator": "nvidiaTeslaT4",
   "dataSources": [],
   "dockerImageVersionId": 31090,
   "isGpuEnabled": true,
   "isInternetEnabled": true,
   "language": "python",
   "sourceType": "notebook"
  },
  "kernelspec": {
   "display_name": "Python 3",
   "language": "python",
   "name": "python3"
  },
  "language_info": {
   "codemirror_mode": {
    "name": "ipython",
    "version": 3
   },
   "file_extension": ".py",
   "mimetype": "text/x-python",
   "name": "python",
   "nbconvert_exporter": "python",
   "pygments_lexer": "ipython3",
   "version": "3.11.13"
  },
  "papermill": {
   "default_parameters": {},
   "duration": 975.448602,
   "end_time": "2025-07-24T01:57:31.897809",
   "environment_variables": {},
   "exception": true,
   "input_path": "__notebook__.ipynb",
   "output_path": "__notebook__.ipynb",
   "parameters": {},
   "start_time": "2025-07-24T01:41:16.449207",
   "version": "2.6.0"
  }
 },
 "nbformat": 4,
 "nbformat_minor": 5
}
